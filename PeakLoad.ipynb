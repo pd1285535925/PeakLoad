{
 "cells": [
  {
   "cell_type": "code",
   "execution_count": 1,
   "id": "8c4a297a-3f04-41ba-a3d1-4ab54267126e",
   "metadata": {
    "tags": []
   },
   "outputs": [],
   "source": [
    "import pandas as pd"
   ]
  },
  {
   "cell_type": "code",
   "execution_count": null,
   "id": "3a1c8c85-495f-4165-b092-85770bc3d8ef",
   "metadata": {},
   "outputs": [],
   "source": [
    "df_old = pd.read_csv('')"
   ]
  }
 ],
 "metadata": {
  "kernelspec": {
   "display_name": "Python 3 (ipykernel)",
   "language": "python",
   "name": "python3"
  },
  "language_info": {
   "codemirror_mode": {
    "name": "ipython",
    "version": 3
   },
   "file_extension": ".py",
   "mimetype": "text/x-python",
   "name": "python",
   "nbconvert_exporter": "python",
   "pygments_lexer": "ipython3",
   "version": "3.9.9"
  }
 },
 "nbformat": 4,
 "nbformat_minor": 5
}
